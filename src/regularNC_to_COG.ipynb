{
 "cells": [
  {
   "cell_type": "code",
   "execution_count": 301,
   "id": "e37174f3",
   "metadata": {},
   "outputs": [],
   "source": [
    "import os\n",
    "import re\n",
    "import random\n",
    "import math\n",
    "import xarray as xa\n",
    "import numpy as np"
   ]
  },
  {
   "cell_type": "code",
   "execution_count": 302,
   "id": "e38f4082",
   "metadata": {},
   "outputs": [],
   "source": [
    "def make_directory(base_path, directory_name):\n",
    "    path = os.path.join(base_path, directory_name)\n",
    "    if os.path.exists(path) == False:\n",
    "        os.mkdir(path)\n",
    "        return True\n",
    "    return False\n",
    "\n",
    "def scrape_directory_name(filename):\n",
    "    #name=f\"S2A_20160724_135032_27XVB_B{random.randint(0,9)}{random.randint(0,9)}{random.randint(0,9)}{number}.tif\"\n",
    "    return filename[0:21]\n",
    "\n",
    "#get all file names from a directory\n",
    "#TODO: rename it to list directory nc files\n",
    "def list_directory_files(path):\n",
    "    dir_list = os.listdir(path)\n",
    "    files = [f for f in dir_list if os.path.isfile(path+'/'+f)]\n",
    "    files = [f for f in files if f[len(f)-3:] == \".nc\"]\n",
    "    return files\n",
    "\n",
    "def extract_variable_name(filename):\n",
    "    pattern = \"[a-zA-Z]_flash[a-zA-Z_]+\"\n",
    "    match = re.findall(pattern, filename)\n",
    "    return match[0][2:]"
   ]
  },
  {
   "cell_type": "code",
   "execution_count": 303,
   "id": "c11a7f91",
   "metadata": {},
   "outputs": [],
   "source": [
    "def open_file(input_path):\n",
    "    return xa.open_dataset(input_file_path, engine=\"netcdf4\", decode_coords='all', decode_times=False)\n",
    "\n",
    "def copy_lat_lon_data(file, var_name1, var_name2, var_name3, number=0):\n",
    "    lat = file[var_name1].data.copy()\n",
    "    lon = file[var_name2].data.copy()\n",
    "    data = file[var_name3].data[number].copy()\n",
    "    return lat, lon, data\n",
    "\n",
    "def make_new_xarray(lat, lon, data):\n",
    "    file = xa.Dataset(\n",
    "        {\n",
    "            \"flash_extent\": ([\"longitude\", \"latitude\"], data),\n",
    "        },\n",
    "        coords={\n",
    "            \"longitude\": ([\"longitude\"], lon),\n",
    "            \"latitude\": ([\"latitude\"], lat),\n",
    "        },\n",
    "    )\n",
    "    return file\n",
    "\n",
    "def generate_cog(file, variable_name, latitude, longitude, number, filename, base_path, for_terracotta):\n",
    "    file = file[variable_name]\n",
    "    file = file.transpose(latitude, longitude)\n",
    "    file.rio.set_spatial_dims(x_dim=longitude, y_dim=latitude, inplace=True)\n",
    "    file.rio.set_crs('epsg:4326')\n",
    "    directory_name = scrape_directory_name(filename)\n",
    "    make_directory(base_path, directory_name)\n",
    "    file_name = base_path + directory_name + '/' + str(number)\n",
    "    print(file_name)\n",
    "    file.rio.to_raster(f\"{file_name}.tif\", driver='COG')\n",
    "    file.to_netcdf(f\"{file_name}.nc\")\n",
    "    \n",
    "def delete_row_col(lat, lon, data):\n",
    "    #finding row with all zeroes    \n",
    "    zero_row = np.where(np.all(data == 0, axis=1))[0]\n",
    "    #removing lon with all zeroes\n",
    "    lon = np.delete(lon, zero_row)\n",
    "    # Find rows with non-zero elements\n",
    "    non_zero_rows = np.any(data != 0, axis=1)\n",
    "    # Filter the array based on non-zero rows\n",
    "    data = data[non_zero_rows]\n",
    "\n",
    "    #finding columns with all zeroes\n",
    "    zero_columns = np.where(np.all(data == 0, axis=0))[0]\n",
    "    #removing lat with all zeroes\n",
    "    lat = np.delete(lat, zero_columns)\n",
    "    # Find rows with non-zero elements\n",
    "    non_zero_rows = np.any(data != 0, axis=1)\n",
    "    # Find columns with non-zero elements\n",
    "    non_zero_columns = np.any(data != 0, axis=0)\n",
    "    # Filter the array based on non-zero rows and columns\n",
    "    data = data[non_zero_rows][:, non_zero_columns]\n",
    "    return lat, lon, data\n",
    "\n",
    "def flip_lat_data(lat, lon, data):\n",
    "    lat = lat[::-1]\n",
    "    data = np.flip(data, axis=1)\n",
    "    return lat, lon, data"
   ]
  },
  {
   "cell_type": "code",
   "execution_count": 304,
   "id": "e2ec35ca",
   "metadata": {},
   "outputs": [],
   "source": [
    "def nalma(base_path, filename):\n",
    "    input_file_path = f\"{base_path}{filename}\"\n",
    "    variable_name = extract_variable_name(filename)\n",
    "    lat='latitude'\n",
    "    lon='longitude'\n",
    "    return input_file_path, variable_name, lat, lon\n",
    "\n",
    "def wtlma(base_path, filename):\n",
    "    input_file_path = f\"{base_path}{filename}\"\n",
    "    variable_name = extract_variable_name(filename)\n",
    "    lat='latitude'\n",
    "    lon='longitude'\n",
    "    return input_file_path, variable_name, lat, lon\n",
    "\n",
    "def trmm_lis(base_path, filename):\n",
    "    input_file_path = f'{base_path}{filename}'\n",
    "    variable_name = \"VHRFC_LIS_FRD\"\n",
    "    lat=\"Latitude\"\n",
    "    lon=\"Longitude\"\n",
    "    return input_file_path, variable_name, lat, lon"
   ]
  },
  {
   "cell_type": "code",
   "execution_count": 305,
   "id": "0d6573ff",
   "metadata": {},
   "outputs": [],
   "source": [
    "files = list_directory_files(base_path)"
   ]
  },
  {
   "cell_type": "code",
   "execution_count": 306,
   "id": "086427b1",
   "metadata": {},
   "outputs": [
    {
     "data": {
      "text/plain": [
       "['NALMA_20230629_235000_600_10src_0.0109deg-dx_flash_extent1.nc',\n",
       " 'WTLMA_20170531_235000_600_10src_0.0108deg-dx_flash_extent.nc']"
      ]
     },
     "execution_count": 306,
     "metadata": {},
     "output_type": "execute_result"
    }
   ],
   "source": [
    "files"
   ]
  },
  {
   "cell_type": "code",
   "execution_count": 307,
   "id": "1c6e1ecc",
   "metadata": {},
   "outputs": [],
   "source": [
    "def connector(base_path, file_name_type=\"regular\"):\n",
    "    for_terracotta = True if file_name_type == \"terracotta_suitable\" else False\n",
    "    file_names = list_directory_files(base_path)\n",
    "    for filename in file_names:\n",
    "        print(f\">>> fileName: {filename}\", end=\"\\n\")\n",
    "        input_file_path, variable_name, lat_var, lon_var = nalma(base_path, filename)\n",
    "        file = open_file(input_file_path)\n",
    "        total_data = len(file[variable_name].data)\n",
    "        for i in range(total_data):\n",
    "            file = open_file(input_file_path)\n",
    "            lat, lon, data = copy_lat_lon_data(file, lat_var, lon_var, variable_name, i)\n",
    "            print(data.shape, end=\" --> \")\n",
    "            lat, lon, data = delete_row_col(lat, lon, data)\n",
    "            print(data.shape)\n",
    "            lat, lon, data = flip_lat_data(lat, lon, data)\n",
    "            file = make_new_xarray(lat, lon ,data)\n",
    "            print(f\"Latitude: {file.latitude.shape}, Longitude: {file.longitude.shape}, Data: {file[variable_name].data.shape}\")\n",
    "            generate_cog(file, variable_name, lat_var, lon_var, i, filename, base_path, for_terracotta)\n",
    "            print(\"----------------------------------\")\n",
    "        print(\"\\n\")"
   ]
  },
  {
   "cell_type": "code",
   "execution_count": 308,
   "id": "33222665",
   "metadata": {},
   "outputs": [
    {
     "name": "stdout",
     "output_type": "stream",
     "text": [
      "True\n"
     ]
    }
   ],
   "source": [
    "file_name_type = \"terracotta_suitable\"\n",
    "for_terracotta = True if file_name_type == \"terracotta_suitable\" else False\n",
    "\n",
    "print(for_terracotta)"
   ]
  },
  {
   "cell_type": "code",
   "execution_count": 309,
   "id": "d93646c1",
   "metadata": {},
   "outputs": [],
   "source": [
    "#constant variables\n",
    "base_path = \"/home/asubedi/test_cog/\""
   ]
  },
  {
   "cell_type": "code",
   "execution_count": 310,
   "id": "296f4166",
   "metadata": {},
   "outputs": [
    {
     "name": "stdout",
     "output_type": "stream",
     "text": [
      ">>> fileName: NALMA_20230629_235000_600_10src_0.0109deg-dx_flash_extent1.nc\n",
      "(400, 400) --> (6, 11)\n",
      "Latitude: (11,), Longitude: (6,), Data: (6, 11)\n",
      "/home/asubedi/test_cog/NALMA_20230629_235000/0\n",
      "----------------------------------\n",
      "(400, 400) --> (4, 5)\n",
      "Latitude: (5,), Longitude: (4,), Data: (4, 5)\n",
      "/home/asubedi/test_cog/NALMA_20230629_235000/1\n",
      "----------------------------------\n",
      "(400, 400) --> (23, 28)\n",
      "Latitude: (28,), Longitude: (23,), Data: (23, 28)\n",
      "/home/asubedi/test_cog/NALMA_20230629_235000/2\n",
      "----------------------------------\n",
      "(400, 400) --> (19, 21)\n",
      "Latitude: (21,), Longitude: (19,), Data: (19, 21)\n",
      "/home/asubedi/test_cog/NALMA_20230629_235000/3\n",
      "----------------------------------\n",
      "(400, 400) --> (34, 53)\n",
      "Latitude: (53,), Longitude: (34,), Data: (34, 53)\n",
      "/home/asubedi/test_cog/NALMA_20230629_235000/4\n",
      "----------------------------------\n",
      "(400, 400) --> (27, 18)\n",
      "Latitude: (18,), Longitude: (27,), Data: (27, 18)\n",
      "/home/asubedi/test_cog/NALMA_20230629_235000/5\n",
      "----------------------------------\n",
      "(400, 400) --> (64, 38)\n",
      "Latitude: (38,), Longitude: (64,), Data: (64, 38)\n",
      "/home/asubedi/test_cog/NALMA_20230629_235000/6\n",
      "----------------------------------\n",
      "(400, 400) --> (22, 27)\n",
      "Latitude: (27,), Longitude: (22,), Data: (22, 27)\n",
      "/home/asubedi/test_cog/NALMA_20230629_235000/7\n",
      "----------------------------------\n",
      "(400, 400) --> (32, 22)\n",
      "Latitude: (22,), Longitude: (32,), Data: (32, 22)\n",
      "/home/asubedi/test_cog/NALMA_20230629_235000/8\n",
      "----------------------------------\n",
      "(400, 400) --> (61, 32)\n",
      "Latitude: (32,), Longitude: (61,), Data: (61, 32)\n",
      "/home/asubedi/test_cog/NALMA_20230629_235000/9\n",
      "----------------------------------\n",
      "\n",
      "\n",
      ">>> fileName: WTLMA_20170531_235000_600_10src_0.0108deg-dx_flash_extent.nc\n",
      "(400, 400) --> (6, 11)\n",
      "Latitude: (11,), Longitude: (6,), Data: (6, 11)\n",
      "/home/asubedi/test_cog/WTLMA_20170531_235000/0\n",
      "----------------------------------\n",
      "(400, 400) --> (4, 5)\n",
      "Latitude: (5,), Longitude: (4,), Data: (4, 5)\n",
      "/home/asubedi/test_cog/WTLMA_20170531_235000/1\n",
      "----------------------------------\n",
      "(400, 400) --> (23, 28)\n",
      "Latitude: (28,), Longitude: (23,), Data: (23, 28)\n",
      "/home/asubedi/test_cog/WTLMA_20170531_235000/2\n",
      "----------------------------------\n",
      "(400, 400) --> (19, 21)\n",
      "Latitude: (21,), Longitude: (19,), Data: (19, 21)\n",
      "/home/asubedi/test_cog/WTLMA_20170531_235000/3\n",
      "----------------------------------\n",
      "(400, 400) --> (34, 53)\n",
      "Latitude: (53,), Longitude: (34,), Data: (34, 53)\n",
      "/home/asubedi/test_cog/WTLMA_20170531_235000/4\n",
      "----------------------------------\n",
      "(400, 400) --> (27, 18)\n",
      "Latitude: (18,), Longitude: (27,), Data: (27, 18)\n",
      "/home/asubedi/test_cog/WTLMA_20170531_235000/5\n",
      "----------------------------------\n",
      "(400, 400) --> (64, 38)\n",
      "Latitude: (38,), Longitude: (64,), Data: (64, 38)\n",
      "/home/asubedi/test_cog/WTLMA_20170531_235000/6\n",
      "----------------------------------\n",
      "(400, 400) --> (22, 27)\n",
      "Latitude: (27,), Longitude: (22,), Data: (22, 27)\n",
      "/home/asubedi/test_cog/WTLMA_20170531_235000/7\n",
      "----------------------------------\n",
      "(400, 400) --> (32, 22)\n",
      "Latitude: (22,), Longitude: (32,), Data: (32, 22)\n",
      "/home/asubedi/test_cog/WTLMA_20170531_235000/8\n",
      "----------------------------------\n",
      "(400, 400) --> (61, 32)\n",
      "Latitude: (32,), Longitude: (61,), Data: (61, 32)\n",
      "/home/asubedi/test_cog/WTLMA_20170531_235000/9\n",
      "----------------------------------\n",
      "\n",
      "\n"
     ]
    }
   ],
   "source": [
    "connector(base_path)"
   ]
  },
  {
   "cell_type": "code",
   "execution_count": null,
   "id": "57edca2e",
   "metadata": {},
   "outputs": [],
   "source": []
  },
  {
   "cell_type": "code",
   "execution_count": null,
   "id": "14719471",
   "metadata": {},
   "outputs": [],
   "source": []
  }
 ],
 "metadata": {
  "kernelspec": {
   "display_name": "Python 3 (ipykernel)",
   "language": "python",
   "name": "python3"
  },
  "language_info": {
   "codemirror_mode": {
    "name": "ipython",
    "version": 3
   },
   "file_extension": ".py",
   "mimetype": "text/x-python",
   "name": "python",
   "nbconvert_exporter": "python",
   "pygments_lexer": "ipython3",
   "version": "3.8.10"
  }
 },
 "nbformat": 4,
 "nbformat_minor": 5
}
