{
 "cells": [
  {
   "cell_type": "code",
   "execution_count": 431,
   "id": "4a64404e",
   "metadata": {},
   "outputs": [],
   "source": [
    "from curses import flash\n",
    "import os\n",
    "from pickle import TRUE\n",
    "from re import L\n",
    "import requests\n",
    "import validators\n",
    "import gzip\n",
    "import shutil\n",
    "from urllib.parse import urlparse\n",
    "import random\n",
    "\n",
    "import sys\n",
    "import math\n",
    "import xarray as xa\n",
    "import numpy as np\n",
    "from rio_cogeo import cog_validate\n",
    "import rioxarray\n",
    "\n",
    "# Mapping\n",
    "import matplotlib as mpl\n",
    "from matplotlib import pyplot as plt\n",
    "import cartopy.crs as ccrs\n",
    "import cartopy.feature as cfeature\n",
    "from cartopy.mpl.gridliner import LONGITUDE_FORMATTER, LATITUDE_FORMATTER\n",
    "import matplotlib.ticker as mticker"
   ]
  },
  {
   "cell_type": "code",
   "execution_count": 441,
   "id": "365bb763",
   "metadata": {},
   "outputs": [],
   "source": [
    "def open_file(input_path):\n",
    "    return xa.open_dataset(input_file_path, engine=\"netcdf4\", decode_coords='all', decode_times=False)\n",
    "\n",
    "def copy_lat_lon_data(file, var_name1, var_name2, var_name3):\n",
    "    lat = file[var_name1].data.copy()\n",
    "    lon = file[var_name2].data.copy()\n",
    "    data = file[var_name3].data[0].copy()\n",
    "    return lat, lon, data\n",
    "\n",
    "def make_new_xarray(lat, lon, data):\n",
    "    file = xa.Dataset(\n",
    "        data_vars={\"flash_extent\": ((\"lon\", \"lat\"), data)},\n",
    "        coords={\"lon\": lon, \"lat\": lat},\n",
    "        attrs={\"instrument_ID\": \"NALMA\"}\n",
    "    )\n",
    "    return file\n",
    "\n",
    "def generate_cog(file, variable_name):\n",
    "    file = file[variable_name]\n",
    "    file = file.transpose(\"lat\",\"lon\")\n",
    "    file.rio.set_spatial_dims(x_dim=\"lon\", y_dim=\"lat\", inplace=True)\n",
    "    file.rio.crs\n",
    "    file.rio.set_crs('epsg:4326', inplace=True)\n",
    "    name=f\"S2A_20160724_135032_27XVB_B{random.randint(0,9)}{random.randint(0,9)}{random.randint(0,9)}.tif\"\n",
    "    cog_path=f\"/home/asubedi/test_cog/cogs/{name}\"\n",
    "    file1.rio.to_raster(rf'{cog_path}', driver='COG')\n",
    "    print(name)"
   ]
  },
  {
   "cell_type": "code",
   "execution_count": 442,
   "id": "5dc2f024",
   "metadata": {},
   "outputs": [],
   "source": [
    "input_file_path = \"/home/asubedi/test_cog/NALMA_20230629_235000_600_10src_0.0109deg-dx_flash_extent.nc\"\n",
    "# input_file_path = \"/home/asubedi/test_cog/WTLMA_20170531_235000_600_10src_0.0108deg-dx_flash_extent.nc\"\n",
    "variable_name = \"flash_extent\"\n",
    "\n",
    "# input_file_path = '/home/asubedi/Desktop/data/raw-files/TRMM-LIS/lis_vhrfc_1998_2013_v01.nc'\n",
    "# variable_name = \"VHRFC_LIS_FRD\""
   ]
  },
  {
   "cell_type": "code",
   "execution_count": 443,
   "id": "7e880668",
   "metadata": {},
   "outputs": [],
   "source": [
    "file = open_file(input_file_path)\n",
    "lat, lon, data = copy_lat_lon_data(file, 'latitude', 'longitude', variable_name)\n",
    "file2 = make_new_xarray(lat, lon, data)"
   ]
  },
  {
   "cell_type": "code",
   "execution_count": 444,
   "id": "52cb0818",
   "metadata": {},
   "outputs": [
    {
     "name": "stderr",
     "output_type": "stream",
     "text": [
      "ERROR 1: PROJ: proj_create_from_database: /home/asubedi/miniconda3/share/proj/proj.db lacks DATABASE.LAYOUT.VERSION.MAJOR / DATABASE.LAYOUT.VERSION.MINOR metadata. It comes from another PROJ installation.\n"
     ]
    },
    {
     "ename": "MissingSpatialDimensionError",
     "evalue": "x dimension not found. 'rio.set_spatial_dims()' or using 'rename()' to change the dimension name to 'x' can address this.",
     "output_type": "error",
     "traceback": [
      "\u001b[0;31m---------------------------------------------------------------------------\u001b[0m",
      "\u001b[0;31mMissingSpatialDimensionError\u001b[0m              Traceback (most recent call last)",
      "Cell \u001b[0;32mIn [444], line 1\u001b[0m\n\u001b[0;32m----> 1\u001b[0m \u001b[43mgenerate_cog\u001b[49m\u001b[43m(\u001b[49m\u001b[43mfile2\u001b[49m\u001b[43m,\u001b[49m\u001b[43m \u001b[49m\u001b[43mvariable_name\u001b[49m\u001b[43m)\u001b[49m\n",
      "Cell \u001b[0;32mIn [441], line 26\u001b[0m, in \u001b[0;36mgenerate_cog\u001b[0;34m(file, variable_name)\u001b[0m\n\u001b[1;32m     24\u001b[0m name\u001b[38;5;241m=\u001b[39m\u001b[38;5;124mf\u001b[39m\u001b[38;5;124m\"\u001b[39m\u001b[38;5;124mS2A_20160724_135032_27XVB_B\u001b[39m\u001b[38;5;132;01m{\u001b[39;00mrandom\u001b[38;5;241m.\u001b[39mrandint(\u001b[38;5;241m0\u001b[39m,\u001b[38;5;241m9\u001b[39m)\u001b[38;5;132;01m}\u001b[39;00m\u001b[38;5;132;01m{\u001b[39;00mrandom\u001b[38;5;241m.\u001b[39mrandint(\u001b[38;5;241m0\u001b[39m,\u001b[38;5;241m9\u001b[39m)\u001b[38;5;132;01m}\u001b[39;00m\u001b[38;5;132;01m{\u001b[39;00mrandom\u001b[38;5;241m.\u001b[39mrandint(\u001b[38;5;241m0\u001b[39m,\u001b[38;5;241m9\u001b[39m)\u001b[38;5;132;01m}\u001b[39;00m\u001b[38;5;124m.tif\u001b[39m\u001b[38;5;124m\"\u001b[39m\n\u001b[1;32m     25\u001b[0m cog_path\u001b[38;5;241m=\u001b[39m\u001b[38;5;124mf\u001b[39m\u001b[38;5;124m\"\u001b[39m\u001b[38;5;124m/home/asubedi/test_cog/cogs/\u001b[39m\u001b[38;5;132;01m{\u001b[39;00mname\u001b[38;5;132;01m}\u001b[39;00m\u001b[38;5;124m\"\u001b[39m\n\u001b[0;32m---> 26\u001b[0m \u001b[43mfile1\u001b[49m\u001b[38;5;241;43m.\u001b[39;49m\u001b[43mrio\u001b[49m\u001b[38;5;241;43m.\u001b[39;49m\u001b[43mto_raster\u001b[49m\u001b[43m(\u001b[49m\u001b[38;5;124;43mrf\u001b[39;49m\u001b[38;5;124;43m'\u001b[39;49m\u001b[38;5;132;43;01m{\u001b[39;49;00m\u001b[43mcog_path\u001b[49m\u001b[38;5;132;43;01m}\u001b[39;49;00m\u001b[38;5;124;43m'\u001b[39;49m\u001b[43m,\u001b[49m\u001b[43m \u001b[49m\u001b[43mdriver\u001b[49m\u001b[38;5;241;43m=\u001b[39;49m\u001b[38;5;124;43m'\u001b[39;49m\u001b[38;5;124;43mCOG\u001b[39;49m\u001b[38;5;124;43m'\u001b[39;49m\u001b[43m)\u001b[49m\n\u001b[1;32m     27\u001b[0m \u001b[38;5;28mprint\u001b[39m(name)\n",
      "File \u001b[0;32m~/.local/lib/python3.8/site-packages/rioxarray/raster_dataset.py:527\u001b[0m, in \u001b[0;36mRasterDataset.to_raster\u001b[0;34m(self, raster_path, driver, dtype, tags, windowed, recalc_transform, lock, compute, **profile_kwargs)\u001b[0m\n\u001b[1;32m    524\u001b[0m     data_array\u001b[38;5;241m.\u001b[39mrio\u001b[38;5;241m.\u001b[39mwrite_crs(\u001b[38;5;28mself\u001b[39m\u001b[38;5;241m.\u001b[39mcrs, inplace\u001b[38;5;241m=\u001b[39m\u001b[38;5;28;01mTrue\u001b[39;00m)\n\u001b[1;32m    525\u001b[0m \u001b[38;5;66;03m# write it to a raster\u001b[39;00m\n\u001b[1;32m    526\u001b[0m \u001b[38;5;28;01mreturn\u001b[39;00m data_array\u001b[38;5;241m.\u001b[39mrio\u001b[38;5;241m.\u001b[39mset_spatial_dims(\n\u001b[0;32m--> 527\u001b[0m     x_dim\u001b[38;5;241m=\u001b[39m\u001b[38;5;28;43mself\u001b[39;49m\u001b[38;5;241;43m.\u001b[39;49m\u001b[43mx_dim\u001b[49m,\n\u001b[1;32m    528\u001b[0m     y_dim\u001b[38;5;241m=\u001b[39m\u001b[38;5;28mself\u001b[39m\u001b[38;5;241m.\u001b[39my_dim,\n\u001b[1;32m    529\u001b[0m     inplace\u001b[38;5;241m=\u001b[39m\u001b[38;5;28;01mTrue\u001b[39;00m,\n\u001b[1;32m    530\u001b[0m )\u001b[38;5;241m.\u001b[39mrio\u001b[38;5;241m.\u001b[39mto_raster(\n\u001b[1;32m    531\u001b[0m     raster_path\u001b[38;5;241m=\u001b[39mraster_path,\n\u001b[1;32m    532\u001b[0m     driver\u001b[38;5;241m=\u001b[39mdriver,\n\u001b[1;32m    533\u001b[0m     dtype\u001b[38;5;241m=\u001b[39mdtype,\n\u001b[1;32m    534\u001b[0m     tags\u001b[38;5;241m=\u001b[39mtags,\n\u001b[1;32m    535\u001b[0m     windowed\u001b[38;5;241m=\u001b[39mwindowed,\n\u001b[1;32m    536\u001b[0m     recalc_transform\u001b[38;5;241m=\u001b[39mrecalc_transform,\n\u001b[1;32m    537\u001b[0m     lock\u001b[38;5;241m=\u001b[39mlock,\n\u001b[1;32m    538\u001b[0m     compute\u001b[38;5;241m=\u001b[39mcompute,\n\u001b[1;32m    539\u001b[0m     \u001b[38;5;241m*\u001b[39m\u001b[38;5;241m*\u001b[39mprofile_kwargs,\n\u001b[1;32m    540\u001b[0m )\n",
      "File \u001b[0;32m~/.local/lib/python3.8/site-packages/rioxarray/rioxarray.py:869\u001b[0m, in \u001b[0;36mXRasterBase.x_dim\u001b[0;34m(self)\u001b[0m\n\u001b[1;32m    867\u001b[0m \u001b[38;5;28;01mif\u001b[39;00m \u001b[38;5;28mself\u001b[39m\u001b[38;5;241m.\u001b[39m_x_dim \u001b[38;5;129;01mis\u001b[39;00m \u001b[38;5;129;01mnot\u001b[39;00m \u001b[38;5;28;01mNone\u001b[39;00m:\n\u001b[1;32m    868\u001b[0m     \u001b[38;5;28;01mreturn\u001b[39;00m \u001b[38;5;28mself\u001b[39m\u001b[38;5;241m.\u001b[39m_x_dim\n\u001b[0;32m--> 869\u001b[0m \u001b[38;5;28;01mraise\u001b[39;00m MissingSpatialDimensionError(\n\u001b[1;32m    870\u001b[0m     \u001b[38;5;124m\"\u001b[39m\u001b[38;5;124mx dimension not found. \u001b[39m\u001b[38;5;124m'\u001b[39m\u001b[38;5;124mrio.set_spatial_dims()\u001b[39m\u001b[38;5;124m'\u001b[39m\u001b[38;5;124m or \u001b[39m\u001b[38;5;124m\"\u001b[39m\n\u001b[1;32m    871\u001b[0m     \u001b[38;5;124m\"\u001b[39m\u001b[38;5;124musing \u001b[39m\u001b[38;5;124m'\u001b[39m\u001b[38;5;124mrename()\u001b[39m\u001b[38;5;124m'\u001b[39m\u001b[38;5;124m to change the dimension name to \u001b[39m\u001b[38;5;124m'\u001b[39m\u001b[38;5;124mx\u001b[39m\u001b[38;5;124m'\u001b[39m\u001b[38;5;124m can address this.\u001b[39m\u001b[38;5;124m\"\u001b[39m\n\u001b[1;32m    872\u001b[0m     \u001b[38;5;124mf\u001b[39m\u001b[38;5;124m\"\u001b[39m\u001b[38;5;132;01m{\u001b[39;00m_get_data_var_message(\u001b[38;5;28mself\u001b[39m\u001b[38;5;241m.\u001b[39m_obj)\u001b[38;5;132;01m}\u001b[39;00m\u001b[38;5;124m\"\u001b[39m\n\u001b[1;32m    873\u001b[0m )\n",
      "\u001b[0;31mMissingSpatialDimensionError\u001b[0m: x dimension not found. 'rio.set_spatial_dims()' or using 'rename()' to change the dimension name to 'x' can address this."
     ]
    }
   ],
   "source": [
    "generate_cog(file2, variable_name)"
   ]
  },
  {
   "cell_type": "code",
   "execution_count": null,
   "id": "d43d3e02",
   "metadata": {},
   "outputs": [],
   "source": []
  }
 ],
 "metadata": {
  "kernelspec": {
   "display_name": "Python 3 (ipykernel)",
   "language": "python",
   "name": "python3"
  },
  "language_info": {
   "codemirror_mode": {
    "name": "ipython",
    "version": 3
   },
   "file_extension": ".py",
   "mimetype": "text/x-python",
   "name": "python",
   "nbconvert_exporter": "python",
   "pygments_lexer": "ipython3",
   "version": "3.8.10"
  }
 },
 "nbformat": 4,
 "nbformat_minor": 5
}
