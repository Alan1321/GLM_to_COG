{
 "cells": [
  {
   "cell_type": "code",
   "execution_count": 499,
   "id": "af2cd3dd",
   "metadata": {},
   "outputs": [],
   "source": [
    "from curses import flash\n",
    "import os\n",
    "from pickle import TRUE\n",
    "from re import L\n",
    "import requests\n",
    "import validators\n",
    "import gzip\n",
    "import shutil\n",
    "from urllib.parse import urlparse\n",
    "import random\n",
    "\n",
    "import sys\n",
    "import math\n",
    "import xarray as xa\n",
    "import numpy as np\n",
    "from rio_cogeo import cog_validate\n",
    "import rioxarray\n",
    "\n",
    "# Mapping\n",
    "import matplotlib as mpl\n",
    "from matplotlib import pyplot as plt\n",
    "import cartopy.crs as ccrs\n",
    "import cartopy.feature as cfeature\n",
    "from cartopy.mpl.gridliner import LONGITUDE_FORMATTER, LATITUDE_FORMATTER\n",
    "import matplotlib.ticker as mticker"
   ]
  },
  {
   "cell_type": "code",
   "execution_count": 547,
   "id": "89cf3505",
   "metadata": {},
   "outputs": [],
   "source": [
    "def open_file(input_path):\n",
    "    return xa.open_dataset(input_file_path, engine=\"netcdf4\", decode_coords='all', decode_times=False)\n",
    "\n",
    "def copy_lat_lon_data(file, var_name1, var_name2, var_name3):\n",
    "    lat = file[var_name1].data.copy()\n",
    "    lon = file[var_name2].data.copy()\n",
    "    data = file[var_name3].data[0].copy()\n",
    "    return lat, lon, data\n",
    "\n",
    "def make_new_xarray(lat, lon, data):\n",
    "    file = xa.Dataset(\n",
    "        data_vars={\"flash_extent\": ([\"lon\", \"lat\"], data, {\"dims\": [\"lon\", \"lat\"]})},\n",
    "        coords={\"lon\": lon, \"lat\": lat},\n",
    "        attrs={\"instrument_ID\": \"NALMA\"}\n",
    "    )\n",
    "    return file\n",
    "\n",
    "def generate_cog(file, variable_name, latitude, longitude):\n",
    "    file = file[variable_name]\n",
    "    file = file[::-1]\n",
    "    file.rio.set_spatial_dims(x_dim=longitude, y_dim=latitude, inplace=True)\n",
    "    file.rio.crs\n",
    "    file.rio.set_crs('epsg:4326')\n",
    "    name=f\"S2A_20160724_135032_27XVB_B{random.randint(0,9)}{random.randint(0,9)}{random.randint(0,9)}.tif\"\n",
    "    cog_path=f\"/home/asubedi/test_cog/cogs/{name}\"\n",
    "    print(name)\n",
    "    file.rio.to_raster(rf'{cog_path}', driver='COG')"
   ]
  },
  {
   "cell_type": "code",
   "execution_count": 548,
   "id": "ac89922a",
   "metadata": {},
   "outputs": [],
   "source": [
    "def nalma():\n",
    "    input_file_path = \"/home/asubedi/test_cog/NALMA_20230629_235000_600_10src_0.0109deg-dx_flash_extent.nc\"\n",
    "    variable_name = \"VHRFC_LIS_FRD\"\n",
    "    lat='Latitude'\n",
    "    lon='Longitude'\n",
    "    return input_file_path, variable_name, lat, lon\n",
    "\n",
    "def wtlma():\n",
    "    input_file_path = \"/home/asubedi/test_cog/WTLMA_20170531_235000_600_10src_0.0108deg-dx_flash_extent.nc\"\n",
    "    variable_name = \"flash_extent\"\n",
    "    lat='latitude'\n",
    "    lon='longitude'\n",
    "    return input_file_path, variable_name, lat, lon\n",
    "\n",
    "def trmm_lis():\n",
    "    input_file_path = '/home/asubedi/Desktop/data/raw-files/TRMM-LIS/lis_vhrfc_1998_2013_v01.nc'\n",
    "    variable_name = \"VHRFC_LIS_FRD\"\n",
    "    lat=\"Latitude\"\n",
    "    lon=\"Longitude\"\n",
    "    return input_file_path, variable_name, lat, lon\n",
    "\n",
    "input_file_path, variable_name, latitude, longitude = trmm_lis()"
   ]
  },
  {
   "cell_type": "code",
   "execution_count": 549,
   "id": "c36faa3c",
   "metadata": {},
   "outputs": [
    {
     "name": "stdout",
     "output_type": "stream",
     "text": [
      "S2A_20160724_135032_27XVB_B656.tif\n"
     ]
    },
    {
     "name": "stderr",
     "output_type": "stream",
     "text": [
      "ERROR 1: PROJ: proj_create_from_database: /home/asubedi/miniconda3/share/proj/proj.db lacks DATABASE.LAYOUT.VERSION.MAJOR / DATABASE.LAYOUT.VERSION.MINOR metadata. It comes from another PROJ installation.\n",
      "ERROR 1: PROJ: proj_create_from_name: /home/asubedi/miniconda3/share/proj/proj.db lacks DATABASE.LAYOUT.VERSION.MAJOR / DATABASE.LAYOUT.VERSION.MINOR metadata. It comes from another PROJ installation.\n",
      "ERROR 1: PROJ: proj_create_from_database: /home/asubedi/miniconda3/share/proj/proj.db lacks DATABASE.LAYOUT.VERSION.MAJOR / DATABASE.LAYOUT.VERSION.MINOR metadata. It comes from another PROJ installation.\n",
      "Warning 1: PROJ: proj_create_from_database: /home/asubedi/miniconda3/share/proj/proj.db lacks DATABASE.LAYOUT.VERSION.MAJOR / DATABASE.LAYOUT.VERSION.MINOR metadata. It comes from another PROJ installation.\n"
     ]
    }
   ],
   "source": [
    "file = open_file(input_file_path)\n",
    "generate_cog(file, variable_name, latitude, longitude)"
   ]
  },
  {
   "cell_type": "code",
   "execution_count": 534,
   "id": "576b0dc0",
   "metadata": {},
   "outputs": [
    {
     "name": "stderr",
     "output_type": "stream",
     "text": [
      "ERROR 1: PROJ: proj_create_from_database: /home/asubedi/miniconda3/share/proj/proj.db lacks DATABASE.LAYOUT.VERSION.MAJOR / DATABASE.LAYOUT.VERSION.MINOR metadata. It comes from another PROJ installation.\n",
      "ERROR 1: PROJ: proj_create_from_name: /home/asubedi/miniconda3/share/proj/proj.db lacks DATABASE.LAYOUT.VERSION.MAJOR / DATABASE.LAYOUT.VERSION.MINOR metadata. It comes from another PROJ installation.\n",
      "ERROR 1: PROJ: proj_create_from_database: /home/asubedi/miniconda3/share/proj/proj.db lacks DATABASE.LAYOUT.VERSION.MAJOR / DATABASE.LAYOUT.VERSION.MINOR metadata. It comes from another PROJ installation.\n",
      "Warning 1: PROJ: proj_create_from_database: /home/asubedi/miniconda3/share/proj/proj.db lacks DATABASE.LAYOUT.VERSION.MAJOR / DATABASE.LAYOUT.VERSION.MINOR metadata. It comes from another PROJ installation.\n"
     ]
    }
   ],
   "source": [
    "# file = file['VHRFC_LIS_FRD']\n",
    "# file = file[::-1]\n",
    "# file.rio.set_spatial_dims(x_dim='Longitude', y_dim='Latitude', inplace=True)\n",
    "# file.rio.crs\n",
    "# file.rio.set_crs('epsg:4326')\n",
    "# name=f\"S2A_20160724_135032_27XVB_B{random.randint(0,9)}{random.randint(0,9)}{random.randint(0,9)}.tif\"\n",
    "# cog_path=f\"/home/asubedi/test_cog/cogs/{name}\"\n",
    "# file.rio.to_raster(rf'{cog_path}', driver='COG')"
   ]
  },
  {
   "cell_type": "code",
   "execution_count": null,
   "id": "226328a5",
   "metadata": {},
   "outputs": [],
   "source": []
  }
 ],
 "metadata": {
  "kernelspec": {
   "display_name": "Python 3 (ipykernel)",
   "language": "python",
   "name": "python3"
  },
  "language_info": {
   "codemirror_mode": {
    "name": "ipython",
    "version": 3
   },
   "file_extension": ".py",
   "mimetype": "text/x-python",
   "name": "python",
   "nbconvert_exporter": "python",
   "pygments_lexer": "ipython3",
   "version": "3.8.10"
  }
 },
 "nbformat": 4,
 "nbformat_minor": 5
}
