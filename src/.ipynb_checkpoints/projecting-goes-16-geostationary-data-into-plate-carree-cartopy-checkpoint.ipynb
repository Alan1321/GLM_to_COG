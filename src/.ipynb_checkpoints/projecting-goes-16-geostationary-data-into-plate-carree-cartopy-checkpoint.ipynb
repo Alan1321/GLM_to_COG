{
 "cells": [
  {
   "cell_type": "code",
   "execution_count": 1,
   "id": "30044760",
   "metadata": {},
   "outputs": [],
   "source": [
    "from netCDF4 import Dataset"
   ]
  },
  {
   "cell_type": "code",
   "execution_count": 4,
   "id": "da032776",
   "metadata": {},
   "outputs": [],
   "source": [
    "nc = Dataset('/home/asubedi/Desktop/data/raw-files/GLM/OR_GLM-L3-GLMF-M6_G16_s202315823490000_e202315823500000_c20231582351080.nc')\n",
    "\n",
    "data = nc.variables['Flash_extent_density'][:]"
   ]
  },
  {
   "cell_type": "code",
   "execution_count": 8,
   "id": "9f1fff2a",
   "metadata": {},
   "outputs": [],
   "source": [
    "sat_h = nc.variables['goes_imager_projection'].perspective_point_height\n",
    "X = nc.variables['x'][:] * sat_h\n",
    "Y = nc.variables['y'][:] * sat_h\n",
    "\n",
    "# Satellite longitude\n",
    "sat_lon = nc.variables['goes_imager_projection'].longitude_of_projection_origin\n",
    "\n",
    "# Satellite sweep\n",
    "sat_sweep = nc.variables['goes_imager_projection'].sweep_angle_axis"
   ]
  },
  {
   "cell_type": "code",
   "execution_count": 10,
   "id": "e1a466ee",
   "metadata": {},
   "outputs": [
    {
     "name": "stdout",
     "output_type": "stream",
     "text": [
      "<class 'netCDF4._netCDF4.Variable'>\n",
      "int32 goes_imager_projection()\n",
      "    long_name: GOES-R ABI fixed grid projection\n",
      "    grid_mapping_name: geostationary\n",
      "    latitude_of_projection_origin: 0.0\n",
      "    longitude_of_projection_origin: -75.0\n",
      "    semi_major_axis: 6378137\n",
      "    semi_minor_axis: 6356752.31414\n",
      "    perspective_point_height: 35786023.0\n",
      "    inverse_flattening: 298.2572221\n",
      "    sweep_angle_axis: x\n",
      "unlimited dimensions: \n",
      "current shape = ()\n",
      "filling on, default _FillValue of -2147483647 used\n"
     ]
    }
   ],
   "source": [
    "proj_var = nc.variables['goes_imager_projection']\n",
    "\n",
    "sat_height = proj_var.perspective_point_height\n",
    "central_lon = proj_var.longitude_of_projection_origin\n",
    "semi_major = proj_var.semi_major_axis\n",
    "semi_minor = proj_var.semi_minor_axis\n",
    "print(proj_var)"
   ]
  },
  {
   "cell_type": "code",
   "execution_count": 17,
   "id": "c7b9882f",
   "metadata": {},
   "outputs": [
    {
     "ename": "AttributeError",
     "evalue": "'Figure' object has no attribute 'coastlines'",
     "output_type": "error",
     "traceback": [
      "\u001b[0;31m---------------------------------------------------------------------------\u001b[0m",
      "\u001b[0;31mAttributeError\u001b[0m                            Traceback (most recent call last)",
      "Cell \u001b[0;32mIn [17], line 4\u001b[0m\n\u001b[1;32m      2\u001b[0m \u001b[38;5;28;01mimport\u001b[39;00m \u001b[38;5;21;01mcartopy\u001b[39;00m\u001b[38;5;21;01m.\u001b[39;00m\u001b[38;5;21;01mcrs\u001b[39;00m \u001b[38;5;28;01mas\u001b[39;00m \u001b[38;5;21;01mccrs\u001b[39;00m\n\u001b[1;32m      3\u001b[0m fig \u001b[38;5;241m=\u001b[39m plt\u001b[38;5;241m.\u001b[39mfigure(figsize\u001b[38;5;241m=\u001b[39m(\u001b[38;5;241m30\u001b[39m,\u001b[38;5;241m20\u001b[39m))\n\u001b[0;32m----> 4\u001b[0m \u001b[43mfig\u001b[49m\u001b[38;5;241;43m.\u001b[39;49m\u001b[43mcoastlines\u001b[49m()\n\u001b[1;32m      5\u001b[0m globe \u001b[38;5;241m=\u001b[39m ccrs\u001b[38;5;241m.\u001b[39mGlobe(semimajor_axis\u001b[38;5;241m=\u001b[39msemi_major, semiminor_axis\u001b[38;5;241m=\u001b[39msemi_minor)\n\u001b[1;32m      6\u001b[0m proj \u001b[38;5;241m=\u001b[39m ccrs\u001b[38;5;241m.\u001b[39mGeostationary(central_longitude\u001b[38;5;241m=\u001b[39mcentral_lon, satellite_height\u001b[38;5;241m=\u001b[39msat_height, globe\u001b[38;5;241m=\u001b[39mglobe)\n",
      "\u001b[0;31mAttributeError\u001b[0m: 'Figure' object has no attribute 'coastlines'"
     ]
    },
    {
     "data": {
      "text/plain": [
       "<Figure size 3000x2000 with 0 Axes>"
      ]
     },
     "metadata": {},
     "output_type": "display_data"
    }
   ],
   "source": [
    "from matplotlib import pyplot as plt\n",
    "import cartopy.crs as ccrs\n",
    "fig = plt.figure(figsize=(30,20))\n",
    "fig.coastlines()\n",
    "globe = ccrs.Globe(semimajor_axis=semi_major, semiminor_axis=semi_minor)\n",
    "proj = ccrs.Geostationary(central_longitude=central_lon, satellite_height=sat_height, globe=globe)\n",
    "\n",
    "ax = fig.add_subplot(1, 1, 1, projection=proj)\n",
    "\n",
    "IR_img = ax.imshow(data[:,:],origin='upper',extent=(X.min(), X.max(), Y.min(), Y.max()),interpolation='nearest',vmin=162.,vmax=330.)"
   ]
  },
  {
   "cell_type": "code",
   "execution_count": null,
   "id": "55046b8b",
   "metadata": {},
   "outputs": [],
   "source": []
  }
 ],
 "metadata": {
  "kernelspec": {
   "display_name": "Python 3 (ipykernel)",
   "language": "python",
   "name": "python3"
  },
  "language_info": {
   "codemirror_mode": {
    "name": "ipython",
    "version": 3
   },
   "file_extension": ".py",
   "mimetype": "text/x-python",
   "name": "python",
   "nbconvert_exporter": "python",
   "pygments_lexer": "ipython3",
   "version": "3.8.10"
  }
 },
 "nbformat": 4,
 "nbformat_minor": 5
}
